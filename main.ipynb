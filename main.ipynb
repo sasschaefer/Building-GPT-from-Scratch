{
 "cells": [
  {
   "cell_type": "markdown",
   "id": "05d43bb1",
   "metadata": {},
   "source": [
    "# Building GPT from scratch"
   ]
  },
  {
   "cell_type": "markdown",
   "id": "b696cde4",
   "metadata": {},
   "source": [
    "## Task 1:\n",
    "* train the segmenter with varying k (try normalization strategies)\n",
    "* compare the performance against a different set\n",
    "* figure out a measure for accuracy"
   ]
  }
 ],
 "metadata": {
  "language_info": {
   "name": "python"
  }
 },
 "nbformat": 4,
 "nbformat_minor": 5
}
