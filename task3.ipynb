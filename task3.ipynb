{
 "cells": [
  {
   "cell_type": "markdown",
   "id": "d644b447",
   "metadata": {},
   "source": [
    "## Task 3:\n",
    "\n",
    "Implement neural embeddings – either hardcode or softer version, using PyTorch\n",
    "\n",
    "Watch RAM during training, especially for higher batch sizes (>=32)"
   ]
  },
  {
   "cell_type": "markdown",
   "id": "dc94f3e4",
   "metadata": {},
   "source": [
    "### Hardcode\n",
    "Hardcode version:\n",
    "* No PyTorch, no ML libraries, only numpy (at least for the neural embeddings,\n",
    "can use PyTorch, etc. for GPT implementation)\n",
    "    * Can use Counter and defaultdict from Collections\n",
    "    * We can, but do not have to hardcode the optimiser (can use Adam,\n",
    "need to use at least SGD)\n",
    "* Measure perplexity\n",
    "* Implement early stopping (when validation error/loss diverges from training\n",
    "error to avoid overfitting to training set) with patience\n",
    "    * Do not need to optimise for patience, but can\n",
    "    * Save top k (the amount that fits reasonably on your disk) of model\n",
    "checkpoints (can name that file for validation score and iteration)"
   ]
  },
  {
   "cell_type": "code",
   "execution_count": null,
   "id": "9cf1bcb4",
   "metadata": {},
   "outputs": [
    {
     "data": {
      "text/plain": [
       "'# ---------------------- Run ----------------------\\nif __name__ == \"__main__\":\\n    # Load tokenizer\\n    tok = BPETokenizer.load_json(\"artifacts/bpe_tokenizer.json\")\\n\\n    # Tokenize datasets\\n    train_ids = tokenize_with_bpe(\"Corpus/shakespeare_clean_train.txt\", tok)\\n    val_ids   = tokenize_with_bpe(\"Corpus/shakespeare_clean_valid.txt\", tok)\\n    test_ids  = tokenize_with_bpe(\"Corpus/shakespeare_clean_test.txt\", tok)\\n\\n    # Train model and collect losses\\n    model, history = train_ngram_model(train_ids, val_ids, tok.merges, tok.id_to_token, tok.token_to_id, n=5, embd=32)\\n    # Evaluate\\n    ppl = perplexity(model, test_ids, n=5)\\n    print(f\"Test Perplexity = {ppl:.2f}\")\\n    # Plot losses'"
      ]
     },
     "execution_count": 12,
     "metadata": {},
     "output_type": "execute_result"
    }
   ],
   "source": [
    "import os, numpy as np, time\n",
    "from collections import deque\n",
    "from src.bpe import BPETokenizer\n",
    "from src.neural_ngram import NeuralNGramHard\n",
    "import pandas as pd\n",
    "import matplotlib\n",
    "import matplotlib.pyplot as plt\n",
    "import os\n",
    "# Use a safe built-in font\n",
    "matplotlib.rcParams['font.family'] = 'sans-serif'\n",
    "matplotlib.rcParams['font.sans-serif'] = ['Arial', 'Liberation Sans', 'Tahoma']\n",
    "\n",
    "# ---------------------- Dataset utilities ----------------------\n",
    "def tokenize_with_bpe(path, tokenizer: BPETokenizer):\n",
    "    \"\"\"Tokenize a text file into ids using a BPETokenizer object.\"\"\"\n",
    "    with open(path, \"r\", encoding=\"utf-8\") as f:\n",
    "        text = f.read()\n",
    "    return tokenizer.encode_text(text)\n",
    "\n",
    "\n",
    "def make_ngram_batches(ids, n, batch_size):\n",
    "    \"\"\"Yield mini-batches of n-gram contexts and targets.\"\"\"\n",
    "    N = len(ids) - (n-1)\n",
    "    idx = np.arange(N)\n",
    "    np.random.shuffle(idx)\n",
    "    for start in range(0, N, batch_size):\n",
    "        batch = idx[start:start+batch_size]\n",
    "        X = np.stack([ids[i:i+n-1] for i in batch])\n",
    "        Y = np.array([ids[i+n-1] for i in batch])\n",
    "        yield X, Y\n",
    "\n",
    "# ---------------------- Training loop ----------------------\n",
    "\n",
    "\n",
    "def train_ngram_model(train_ids, val_ids, merges, id_to_token, token_to_id,\n",
    "                      n=5, embd=32, hidden=128, batch_size=32,\n",
    "                      lr=0.3, epochs=20, patience=3, top_k=3,\n",
    "                      history_csv=\"ngram_history.csv\"):\n",
    "\n",
    "    model = NeuralNGramHard(vocab_size=len(id_to_token), n=n,\n",
    "                            embd=embd, hidden=hidden)\n",
    "\n",
    "    best_val = float(\"inf\")\n",
    "    patience_counter = 0\n",
    "    saved_ckpts = deque(maxlen=top_k)\n",
    "\n",
    "    history = []\n",
    "\n",
    "    for epoch in range(1, epochs+1):\n",
    "        losses = []\n",
    "        for X, Y in make_ngram_batches(train_ids, n, batch_size):\n",
    "            loss = model.train_batch(X, Y, lr=lr)\n",
    "            losses.append(loss)\n",
    "        train_loss = np.mean(losses)\n",
    "        val_loss = model.eval_loss(np.array(val_ids), n=n)\n",
    "\n",
    "        print(f\"Epoch {epoch}: train_loss={train_loss:.4f}, val_loss={val_loss:.4f}\")\n",
    "\n",
    "        history.append({\"epoch\": epoch, \"train_loss\": train_loss, \"val_loss\": val_loss})\n",
    "\n",
    "        # Save history to CSV every epoch\n",
    "        pd.DataFrame(history).to_csv(history_csv, index=False)\n",
    "\n",
    "        if val_loss < best_val:\n",
    "            best_val = val_loss\n",
    "            patience_counter = 0\n",
    "            ckpt_path = f\"checkpoints/epoch{epoch}_valloss{val_loss:.4f}.npz\"\n",
    "            os.makedirs(\"checkpoints\", exist_ok=True)\n",
    "            model.save(ckpt_path)\n",
    "            saved_ckpts.append(ckpt_path)\n",
    "            print(f\"  [Saved checkpoint: {ckpt_path}]\")\n",
    "        else:\n",
    "            patience_counter += 1\n",
    "            if patience_counter >= patience:\n",
    "                print(\"Early stopping triggered.\")\n",
    "                break\n",
    "\n",
    "    return model, history\n",
    "\n",
    "# ---------------- Plot from CSV ----------------\n",
    "\n",
    "def plot_losses_from_csv(csv_path, save_path=\"ngram_losses.png\"):\n",
    "    df = pd.read_csv(csv_path)\n",
    "\n",
    "    plt.figure(figsize=(10, 5))\n",
    "    if \"train_loss\" in df.columns:\n",
    "        plt.plot(df[\"epoch\"], df[\"train_loss\"], label=\"train_loss\")\n",
    "    if \"val_loss\" in df.columns:\n",
    "        plt.plot(df[\"epoch\"], df[\"val_loss\"], label=\"val_loss\")\n",
    "\n",
    "    plt.xlabel(\"Epoch\")\n",
    "    plt.ylabel(\"Loss\")\n",
    "    plt.title(\"Training and Validation Loss\")\n",
    "    plt.legend()\n",
    "    plt.grid(True)\n",
    "\n",
    "    plt.savefig(save_path)\n",
    "    plt.close()\n",
    "    print(f\"Plot saved to {save_path}\")\n",
    "\n",
    "\n",
    "\n",
    "# ---------------------- Perplexity ----------------------\n",
    "def perplexity(model, ids, n):\n",
    "    loss = model.eval_loss(np.array(ids), n=n)\n",
    "    return np.exp(loss)\n",
    "\n",
    "# ---------------------- Run ----------------------\n",
    "if __name__ == \"__main__\":\n",
    "    # Load tokenizer\n",
    "    tok = BPETokenizer.load_json(\"artifacts/bpe_tokenizer.json\")\n",
    "\n",
    "    # Tokenize datasets\n",
    "    train_ids = tokenize_with_bpe(\"Corpus/shakespeare_clean_train.txt\", tok)\n",
    "    val_ids   = tokenize_with_bpe(\"Corpus/shakespeare_clean_valid.txt\", tok)\n",
    "    test_ids  = tokenize_with_bpe(\"Corpus/shakespeare_clean_test.txt\", tok)\n",
    "\n",
    "    # Train model and collect losses\n",
    "    model, history = train_ngram_model(train_ids, val_ids, tok.merges, tok.id_to_token, tok.token_to_id, n=5, embd=32)\n",
    "    # Evaluate\n",
    "    ppl = perplexity(model, test_ids, n=5)\n",
    "    print(f\"Test Perplexity = {ppl:.2f}\")\n",
    "    # Plot losses\n",
    "\n",
    "    \n",
    "\n",
    "    "
   ]
  },
  {
   "cell_type": "code",
   "execution_count": 13,
   "id": "4da997f7",
   "metadata": {},
   "outputs": [
    {
     "name": "stdout",
     "output_type": "stream",
     "text": [
      "Plot saved to ngram_losses.png\n"
     ]
    }
   ],
   "source": [
    "# then your plotting code...\n",
    "plot_losses_from_csv(\"ngram_history.csv\")\n"
   ]
  },
  {
   "cell_type": "code",
   "execution_count": 8,
   "id": "baa074e6",
   "metadata": {},
   "outputs": [],
   "source": [
    "def generate_text(model, tokenizer, start_words: list, n=5, max_tokens=100, top_k=None, temperature=1.0):\n",
    "    \"\"\"\n",
    "    Generate text using the trained NeuralNGramHard model and BPE tokenizer.\n",
    "    \"\"\"\n",
    "    # Encode start words to BPE tokens\n",
    "    start_tokens = tokenizer.encode_words(start_words)\n",
    "    # Convert BPE tokens to IDs\n",
    "    context_ids = [tokenizer.token_to_id[t] for t in start_tokens if t in tokenizer.token_to_id]\n",
    "\n",
    "    generated_ids = context_ids.copy()\n",
    "\n",
    "    for _ in range(max_tokens):\n",
    "        if len(generated_ids) < n-1:\n",
    "            context = [0]*(n-1 - len(generated_ids)) + generated_ids\n",
    "        else:\n",
    "            context = generated_ids[-(n-1):]\n",
    "\n",
    "        next_id = model.generate_next(context, top_k=top_k, temperature=temperature)\n",
    "        generated_ids.append(next_id)\n",
    "\n",
    "        # Stop if <eos> token generated\n",
    "        if tokenizer.id_to_token[next_id] == \"<eos>\":\n",
    "            break\n",
    "\n",
    "    # Decode token IDs to BPE tokens, then to words\n",
    "    decoded_words = tokenizer.decode_tokens([tokenizer.id_to_token[i] for i in generated_ids])\n",
    "    return \" \".join(decoded_words)\n"
   ]
  },
  {
   "cell_type": "code",
   "execution_count": 9,
   "id": "5896227d",
   "metadata": {},
   "outputs": [
    {
     "name": "stdout",
     "output_type": "stream",
     "text": [
      "to be of the charmian the certain of a bassander of his sopt and crownd plead to the crow and the chaste\n"
     ]
    }
   ],
   "source": [
    "start_context = [\"to\", \"be\"]\n",
    "text = generate_text(model, tok, start_context, n=5, max_tokens=50, top_k=10, temperature=0.8)\n",
    "print(text)\n"
   ]
  }
 ],
 "metadata": {
  "kernelspec": {
   "display_name": "bgpt",
   "language": "python",
   "name": "python3"
  },
  "language_info": {
   "codemirror_mode": {
    "name": "ipython",
    "version": 3
   },
   "file_extension": ".py",
   "mimetype": "text/x-python",
   "name": "python",
   "nbconvert_exporter": "python",
   "pygments_lexer": "ipython3",
   "version": "3.11.13"
  }
 },
 "nbformat": 4,
 "nbformat_minor": 5
}
