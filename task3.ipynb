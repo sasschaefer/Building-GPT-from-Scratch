{
 "cells": [
  {
   "cell_type": "markdown",
   "id": "d644b447",
   "metadata": {},
   "source": [
    "## Task 3:\n",
    "\n",
    "Implement neural embeddings – either hardcode or softer version, using PyTorch\n",
    "\n",
    "Watch RAM during training, especially for higher batch sizes (>=32)"
   ]
  },
  {
   "cell_type": "markdown",
   "id": "53a21994",
   "metadata": {},
   "source": [
    "This is a neural n-gram"
   ]
  },
  {
   "cell_type": "markdown",
   "id": "dc94f3e4",
   "metadata": {},
   "source": [
    "### Hardcode\n",
    "Hardcode version:\n",
    "* No PyTorch, no ML libraries, only numpy (at least for the neural embeddings,\n",
    "can use PyTorch, etc. for GPT implementation)\n",
    "    * Can use Counter and defaultdict from Collections\n",
    "    * We can, but do not have to hardcode the optimiser (can use Adam,\n",
    "need to use at least SGD)\n",
    "* Measure perplexity\n",
    "* Implement early stopping (when validation error/loss diverges from training\n",
    "error to avoid overfitting to training set) with patience\n",
    "    * Do not need to optimise for patience, but can\n",
    "    * Save top k (the amount that fits reasonably on your disk) of model\n",
    "checkpoints (can name that file for validation score and iteration)"
   ]
  },
  {
   "cell_type": "markdown",
   "id": "fce67885",
   "metadata": {},
   "source": [
    "We want a neural embedding with conditional generation.\n"
   ]
  },
  {
   "cell_type": "markdown",
   "id": "6508dc1c",
   "metadata": {},
   "source": [
    "### Top-k sampling"
   ]
  },
  {
   "cell_type": "code",
   "execution_count": null,
   "id": "9cf1bcb4",
   "metadata": {},
   "outputs": [
    {
     "name": "stdout",
     "output_type": "stream",
     "text": [
      "Epoch 1: train=4.0273, val=3.4477\n",
      "  [Saved checkpoint: checkpoints/epoch1_valloss3.4477.npz]\n",
      "Epoch 2: train=3.2619, val=3.1913\n",
      "  [Saved checkpoint: checkpoints/epoch2_valloss3.1913.npz]\n",
      "Epoch 3: train=3.1048, val=3.1069\n",
      "  [Saved checkpoint: checkpoints/epoch3_valloss3.1069.npz]\n",
      "Epoch 4: train=3.0451, val=3.0853\n",
      "  [Saved checkpoint: checkpoints/epoch4_valloss3.0853.npz]\n",
      "Epoch 5: train=3.0120, val=3.0597\n",
      "  [Saved checkpoint: checkpoints/epoch5_valloss3.0597.npz]\n",
      "Epoch 6: train=2.9899, val=3.0395\n",
      "  [Saved checkpoint: checkpoints/epoch6_valloss3.0395.npz]\n",
      "Epoch 7: train=2.9756, val=3.0288\n",
      "  [Saved checkpoint: checkpoints/epoch7_valloss3.0288.npz]\n",
      "Epoch 8: train=2.9634, val=3.0254\n",
      "  [Saved checkpoint: checkpoints/epoch8_valloss3.0254.npz]\n",
      "Epoch 9: train=2.9541, val=3.0224\n",
      "  [Saved checkpoint: checkpoints/epoch9_valloss3.0224.npz]\n",
      "Epoch 10: train=2.9471, val=3.0114\n",
      "  [Saved checkpoint: checkpoints/epoch10_valloss3.0114.npz]\n",
      "Epoch 11: train=2.9404, val=3.0205\n",
      "Epoch 12: train=2.9364, val=3.0041\n",
      "  [Saved checkpoint: checkpoints/epoch12_valloss3.0041.npz]\n",
      "Epoch 13: train=2.9303, val=3.0186\n",
      "Epoch 14: train=2.9261, val=3.0053\n",
      "Epoch 15: train=2.9227, val=3.0006\n",
      "  [Saved checkpoint: checkpoints/epoch15_valloss3.0006.npz]\n",
      "Epoch 16: train=2.9213, val=3.0111\n",
      "Epoch 17: train=2.9178, val=3.0035\n",
      "Epoch 18: train=2.9155, val=2.9964\n",
      "  [Saved checkpoint: checkpoints/epoch18_valloss2.9964.npz]\n",
      "Epoch 19: train=2.9132, val=3.0087\n",
      "Epoch 20: train=2.9120, val=2.9869\n",
      "  [Saved checkpoint: checkpoints/epoch20_valloss2.9869.npz]\n",
      "Test Perplexity = 19.31\n"
     ]
    }
   ],
   "source": [
    "import os, numpy as np, time\n",
    "from collections import deque\n",
    "from src.bpe import BPETokenizer\n",
    "from src.neural_ngram import NeuralNGramHard\n",
    "\n",
    "# ---------------------- Dataset utilities ----------------------\n",
    "def tokenize_with_bpe(path, tokenizer: BPETokenizer):\n",
    "    \"\"\"Tokenize a text file into ids using a BPETokenizer object.\"\"\"\n",
    "    with open(path, \"r\", encoding=\"utf-8\") as f:\n",
    "        text = f.read()\n",
    "    return tokenizer.encode_text(text)\n",
    "\n",
    "\n",
    "def make_ngram_batches(ids, n, batch_size):\n",
    "    \"\"\"Yield mini-batches of n-gram contexts and targets.\"\"\"\n",
    "    N = len(ids) - (n-1)\n",
    "    idx = np.arange(N)\n",
    "    np.random.shuffle(idx)\n",
    "    for start in range(0, N, batch_size):\n",
    "        batch = idx[start:start+batch_size]\n",
    "        X = np.stack([ids[i:i+n-1] for i in batch])\n",
    "        Y = np.array([ids[i+n-1] for i in batch])\n",
    "        yield X, Y\n",
    "\n",
    "# ---------------------- Training loop ----------------------\n",
    "def train_ngram_model(train_ids, val_ids, merges, id_to_token, token_to_id,\n",
    "                      n=5, embd=32, hidden=128, batch_size=32,\n",
    "                      lr=0.3, epochs=20, patience=3, top_k=3):\n",
    "\n",
    "\n",
    "    model = NeuralNGramHard(vocab_size=len(id_to_token), n=n,\n",
    "                            embd=embd, hidden=hidden)\n",
    "\n",
    "    best_val = float(\"inf\")\n",
    "    patience_counter = 0\n",
    "    saved_ckpts = deque(maxlen=top_k)\n",
    "\n",
    "    for epoch in range(1, epochs+1):\n",
    "        losses = []\n",
    "        for X, Y in make_ngram_batches(train_ids, n, batch_size):\n",
    "            loss = model.train_batch(X, Y, lr=lr)\n",
    "            losses.append(loss)\n",
    "        train_loss = np.mean(losses)\n",
    "        val_loss = model.eval_loss(np.array(val_ids), n=n)\n",
    "\n",
    "        print(f\"Epoch {epoch}: train_loss={train_loss:.4f}, val_loss={val_loss:.4f}\")\n",
    "\n",
    "        if val_loss < best_val:\n",
    "            best_val = val_loss\n",
    "            patience_counter = 0\n",
    "            ckpt_path = f\"checkpoints/epoch{epoch}_valloss{val_loss:.4f}.npz\"\n",
    "            os.makedirs(\"checkpoints\", exist_ok=True)\n",
    "            model.save(ckpt_path)\n",
    "            saved_ckpts.append(ckpt_path)\n",
    "            print(f\"  [Saved checkpoint: {ckpt_path}]\")\n",
    "        else:\n",
    "            patience_counter += 1\n",
    "            if patience_counter >= patience:\n",
    "                print(\"Early stopping triggered.\")\n",
    "                break\n",
    "\n",
    "    return model\n",
    "\n",
    "# ---------------------- Perplexity ----------------------\n",
    "def perplexity(model, ids, n):\n",
    "    loss = model.eval_loss(np.array(ids), n=n)\n",
    "    return np.exp(loss)\n",
    "\n",
    "# ---------------------- Run ----------------------\n",
    "if __name__ == \"__main__\":\n",
    "    # Load tokenizer\n",
    "    tok = BPETokenizer.load_json(\"artifacts/bpe_tokenizer.json\")\n",
    "\n",
    "    # Tokenize datasets\n",
    "    train_ids = tokenize_with_bpe(\"Corpus/shakespeare_clean_train.txt\", tok)\n",
    "    val_ids   = tokenize_with_bpe(\"Corpus/shakespeare_clean_valid.txt\", tok)\n",
    "    test_ids  = tokenize_with_bpe(\"Corpus/shakespeare_clean_test.txt\", tok)\n",
    "\n",
    "    # Train neural n-gram\n",
    "    model = train_ngram_model(train_ids, val_ids, tok.merges, tok.id_to_token, tok.token_to_id, n=5, embd=32)\n",
    "    # Evaluate\n",
    "    ppl = perplexity(model, test_ids, n=5)\n",
    "    print(f\"Test Perplexity = {ppl:.2f}\")\n",
    "\n"
   ]
  },
  {
   "cell_type": "code",
   "execution_count": 8,
   "id": "baa074e6",
   "metadata": {},
   "outputs": [],
   "source": [
    "def generate_text(model, tokenizer, start_words: list, n=5, max_tokens=100, top_k=None, temperature=1.0):\n",
    "    \"\"\"\n",
    "    Generate text using the trained NeuralNGramHard model and BPE tokenizer.\n",
    "    \"\"\"\n",
    "    # Encode start words to BPE tokens\n",
    "    start_tokens = tokenizer.encode_words(start_words)\n",
    "    # Convert BPE tokens to IDs\n",
    "    context_ids = [tokenizer.token_to_id[t] for t in start_tokens if t in tokenizer.token_to_id]\n",
    "\n",
    "    generated_ids = context_ids.copy()\n",
    "\n",
    "    for _ in range(max_tokens):\n",
    "        if len(generated_ids) < n-1:\n",
    "            context = [0]*(n-1 - len(generated_ids)) + generated_ids\n",
    "        else:\n",
    "            context = generated_ids[-(n-1):]\n",
    "\n",
    "        next_id = model.generate_next(context, top_k=top_k, temperature=temperature)\n",
    "        generated_ids.append(next_id)\n",
    "\n",
    "        # Stop if <eos> token generated\n",
    "        if tokenizer.id_to_token[next_id] == \"<eos>\":\n",
    "            break\n",
    "\n",
    "    # Decode token IDs to BPE tokens, then to words\n",
    "    decoded_words = tokenizer.decode_tokens([tokenizer.id_to_token[i] for i in generated_ids])\n",
    "    return \" \".join(decoded_words)\n"
   ]
  },
  {
   "cell_type": "code",
   "execution_count": 9,
   "id": "5896227d",
   "metadata": {},
   "outputs": [
    {
     "name": "stdout",
     "output_type": "stream",
     "text": [
      "to be of the charmian the certain of a bassander of his sopt and crownd plead to the crow and the chaste\n"
     ]
    }
   ],
   "source": [
    "start_context = [\"to\", \"be\"]\n",
    "text = generate_text(model, tok, start_context, n=5, max_tokens=50, top_k=10, temperature=0.8)\n",
    "print(text)\n"
   ]
  }
 ],
 "metadata": {
  "kernelspec": {
   "display_name": "bgpt",
   "language": "python",
   "name": "python3"
  },
  "language_info": {
   "codemirror_mode": {
    "name": "ipython",
    "version": 3
   },
   "file_extension": ".py",
   "mimetype": "text/x-python",
   "name": "python",
   "nbconvert_exporter": "python",
   "pygments_lexer": "ipython3",
   "version": "3.11.13"
  }
 },
 "nbformat": 4,
 "nbformat_minor": 5
}
